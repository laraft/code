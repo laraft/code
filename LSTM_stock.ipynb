{
 "cells": [
  {
   "cell_type": "code",
   "execution_count": 32,
   "id": "b8411e6c-5bd6-4a29-a883-a0d3945a1f9b",
   "metadata": {},
   "outputs": [],
   "source": [
    "import pandas_datareader.data as web\n",
    "import akshare as ak"
   ]
  },
  {
   "cell_type": "code",
   "execution_count": 37,
   "id": "99953b84-083d-4d40-9e63-cb48b55286a4",
   "metadata": {},
   "outputs": [],
   "source": [
    "def get_china_stock_name(stock_code):\n",
    "    \"\"\" 根据 A 股股票代码查询股票名称 \"\"\"\n",
    "    stock_info = ak.stock_info_a_code_name()  # 获取 A 股所有股票代码和名称\n",
    "    stock_dict = dict(zip(stock_info[\"code\"], stock_info[\"name\"]))  # 转换为字典\n",
    "    return stock_dict.get(stock_code, \"股票代码不存在\")\n"
   ]
  },
  {
   "cell_type": "code",
   "execution_count": 39,
   "id": "d28d7fee-7bbb-4158-8749-5c9a7e5a1de9",
   "metadata": {},
   "outputs": [
    {
     "name": "stdout",
     "output_type": "stream",
     "text": [
      "******** 新 和 成\n",
      "               开盘     收盘     最高     最低     成交量\n",
      "日期                                            \n",
      "2010-01-04  48.88  47.30  49.08  47.25   23503\n",
      "2010-01-05  47.35  46.65  47.76  46.50   34171\n",
      "2010-01-06  46.65  46.84  47.51  46.60   31856\n",
      "2010-01-07  46.79  45.85  46.89  45.80   18728\n",
      "2010-01-08  45.85  46.69  47.40  45.85   30160\n",
      "...           ...    ...    ...    ...     ...\n",
      "2025-01-24  22.32  22.49  22.54  22.30  180246\n",
      "2025-01-27  22.49  22.51  22.78  22.41  196691\n",
      "2025-02-05  22.53  22.27  22.62  22.01  219411\n",
      "2025-02-06  22.28  22.32  22.38  22.08  185259\n",
      "2025-02-07  22.30  22.37  22.50  22.14  247629\n",
      "\n",
      "[3640 rows x 5 columns]\n",
      "3640\n"
     ]
    }
   ],
   "source": [
    "#import pandas_datareader.data as web\n",
    "#import datetime\n",
    "#start = datetime.datetime(2000, 1, 1)\n",
    "#end = datetime.datetime(2021, 9, 1)\n",
    "#df = web.DataReader('GOOGL', 'stooq', start, end)\n",
    "#print(df)\n",
    "\n",
    "#import datetime\n",
    "#start = datetime.datetime(2021,1,1)\n",
    "#end = datetime.datetime(2025,1,20)\n",
    "\n",
    "# 根据股票代码获取股票名称\n",
    "stock_code = \"002001\"  # 三花智控的股票代码\n",
    "print(\"********\",get_china_stock_name(stock_code)) \n",
    "\n",
    "# 获取某只股票的历史数据\n",
    "df = ak.stock_zh_a_hist(symbol=stock_code, period=\"daily\", start_date=\"20100101\", end_date=\"20250207\", adjust=\"\")\n",
    "df.set_index(\"日期\", inplace=True)\n",
    "df.drop(columns=\"股票代码\", inplace=True)\n",
    "df.drop(columns=\"振幅\", inplace=True)\n",
    "df.drop(columns=\"涨跌幅\", inplace=True)\n",
    "df.drop(columns=\"换手率\", inplace=True)\n",
    "df.drop(columns=\"涨跌额\", inplace=True)\n",
    "df.drop(columns=\"成交额\", inplace=True)\n",
    "print(df)\n",
    "print(len(df))"
   ]
  },
  {
   "cell_type": "code",
   "execution_count": 40,
   "id": "a4dc4e40-a4a6-4285-906c-c6fe66d29d2f",
   "metadata": {},
   "outputs": [
    {
     "name": "stdout",
     "output_type": "stream",
     "text": [
      "               开盘     收盘     最高     最低     成交量\n",
      "日期                                            \n",
      "2025-01-17  21.55  21.90  22.02  21.35  209450\n",
      "2025-01-20  21.97  22.12  22.44  21.96  224625\n",
      "2025-01-21  22.13  22.06  22.20  21.64  205411\n",
      "2025-01-22  22.34  22.48  22.64  22.14  413706\n",
      "2025-01-23  22.60  22.40  22.74  22.29  274907\n",
      "2025-01-24  22.32  22.49  22.54  22.30  180246\n",
      "2025-01-27  22.49  22.51  22.78  22.41  196691\n",
      "2025-02-05  22.53  22.27  22.62  22.01  219411\n",
      "2025-02-06  22.28  22.32  22.38  22.08  185259\n",
      "2025-02-07  22.30  22.37  22.50  22.14  247629\n"
     ]
    }
   ],
   "source": [
    "print(df.tail(10))"
   ]
  },
  {
   "cell_type": "code",
   "execution_count": 76,
   "id": "e692b757-be3d-4dcb-b3f1-c2c6e0787256",
   "metadata": {},
   "outputs": [],
   "source": [
    "#pre_days = 10\n",
    "\n",
    "def Stock_Price_LSTM_Data_Precesing(df,mem_his_days,pre_days):\n",
    "    df.dropna(inplace=True)\n",
    "    df.sort_index(inplace=True)\n",
    "\n",
    "    #df['日期'] = pd.to_datetime(df['日期']).astype(str)\n",
    "\n",
    "    df['预测'] = df['收盘'].shift(-pre_days)\n",
    "    from sklearn.preprocessing import StandardScaler\n",
    "    scaler=StandardScaler()\n",
    "    sca_X=scaler.fit_transform(df.iloc[:,:-1])\n",
    "    print(\"-------sca_X:\",len(sca_X))\n",
    "    \n",
    "    #mem_his_days = 10\n",
    "    from collections import deque\n",
    "    deq = deque(maxlen = mem_his_days)\n",
    "    \n",
    "    X = []\n",
    "    for i in sca_X:\n",
    "        deq.append(list(i))\n",
    "        if len(deq) == mem_his_days:\n",
    "            X.append(list(deq))\n",
    "    #最后pre_days条记录\n",
    "    X_lately = X[-pre_days:]\n",
    "    print(\"X_lately:\",len(X_lately))\n",
    "    #删除pre_days记录\n",
    "    X = X[:-pre_days]\n",
    "    print(\"X:\",len(X))\n",
    "\n",
    "    #预测价格数组例\n",
    "    y =df['预测'].values[mem_his_days-1:-pre_days]\n",
    "    print(\"y:\",len(y))\n",
    "    import numpy as np\n",
    "    X =np.array(X)\n",
    "    y =np.array(y)\n",
    "    return X,y,X_lately"
   ]
  },
  {
   "cell_type": "code",
   "execution_count": 77,
   "id": "77984012-a69a-482d-9228-39ee081668d4",
   "metadata": {},
   "outputs": [
    {
     "name": "stdout",
     "output_type": "stream",
     "text": [
      "-------sca_X: 3490\n",
      "X_lately: 10\n",
      "X: 3476\n",
      "y: 3476\n"
     ]
    }
   ],
   "source": [
    "X,y,X_lately=Stock_Price_LSTM_Data_Precesing(df,5,10)"
   ]
  },
  {
   "cell_type": "code",
   "execution_count": 65,
   "id": "c511a284-7f6a-480a-a368-6861e31794b4",
   "metadata": {},
   "outputs": [
    {
     "name": "stdout",
     "output_type": "stream",
     "text": [
      "3536 [[[ 3.4289147   3.21360176  3.32233317  3.33965866 -1.02476156]\n",
      "  [ 3.22674119  3.12783321  3.15200612  3.23824795 -0.94419948]\n",
      "  [ 3.13424351  3.15290402  3.1197472   3.25176938 -0.96168179]\n",
      "  [ 3.15274305  3.02227191  3.0397451   3.14359795 -1.06082117]\n",
      "  [ 3.02853188  3.13311127  3.10555328  3.15035867 -0.97448956]]\n",
      "\n",
      " [[ 3.22674119  3.12783321  3.15200612  3.23824795 -0.94419948]\n",
      "  [ 3.13424351  3.15290402  3.1197472   3.25176938 -0.96168179]\n",
      "  [ 3.15274305  3.02227191  3.0397451   3.14359795 -1.06082117]\n",
      "  [ 3.02853188  3.13311127  3.10555328  3.15035867 -0.97448956]\n",
      "  [ 3.22277701  3.12123563  3.16749039  3.22472652 -1.00087537]]\n",
      "\n",
      " [[ 3.13424351  3.15290402  3.1197472   3.25176938 -0.96168179]\n",
      "  [ 3.15274305  3.02227191  3.0397451   3.14359795 -1.06082117]\n",
      "  [ 3.02853188  3.13311127  3.10555328  3.15035867 -0.97448956]\n",
      "  [ 3.22277701  3.12123563  3.16749039  3.22472652 -1.00087537]\n",
      "  [ 3.12763654  3.43264145  3.33136567  3.25176938 -0.83716852]]\n",
      "\n",
      " ...\n",
      "\n",
      " [[-0.45598788 -0.48896066 -0.48163773 -0.47067977  1.43788705]\n",
      "  [-0.479773   -0.47972405 -0.51260629 -0.4652712   0.53987815]\n",
      "  [-0.48241579 -0.4836826  -0.49712201 -0.45851048  0.17825501]\n",
      "  [-0.49959393 -0.47972405 -0.49067023 -0.45986263  0.07363305]\n",
      "  [-0.49166556 -0.45201421 -0.46228239 -0.45851048  0.39344215]]\n",
      "\n",
      " [[-0.479773   -0.47972405 -0.51260629 -0.4652712   0.53987815]\n",
      "  [-0.48241579 -0.4836826  -0.49712201 -0.45851048  0.17825501]\n",
      "  [-0.49959393 -0.47972405 -0.49067023 -0.45986263  0.07363305]\n",
      "  [-0.49166556 -0.45201421 -0.46228239 -0.45851048  0.39344215]\n",
      "  [-0.46655904 -0.4757655  -0.47002452 -0.47879262  1.47181707]]\n",
      "\n",
      " [[-0.48241579 -0.4836826  -0.49712201 -0.45851048  0.17825501]\n",
      "  [-0.49959393 -0.47972405 -0.49067023 -0.45986263  0.07363305]\n",
      "  [-0.49166556 -0.45201421 -0.46228239 -0.45851048  0.39344215]\n",
      "  [-0.46655904 -0.4757655  -0.47002452 -0.47879262  1.47181707]\n",
      "  [-0.47316602 -0.49159969 -0.50099308 -0.46256691  0.47549192]]]\n",
      "=============================================\n",
      "3536 [49.25 48.85 47.23 ... 18.58 18.65 19.08]\n",
      "=============================================\n",
      "10 [[[np.float64(-0.4995939302915971), np.float64(-0.47972404863842616), np.float64(-0.49067022824468987), np.float64(-0.45986262557279173), np.float64(0.07363305121794107)], [np.float64(-0.49166555768510933), np.float64(-0.45201420869390657), np.float64(-0.4622823856776729), np.float64(-0.4585104827670618), np.float64(0.39344214902126273)], [np.float64(-0.4665590444312326), np.float64(-0.47576550007492324), np.float64(-0.4700245245595865), np.float64(-0.47879262485300766), np.float64(1.471817070462589)], [np.float64(-0.4731660216033051), np.float64(-0.4915996943289345), np.float64(-0.5009930800872417), np.float64(-0.46256691118425114), np.float64(0.47549192227761095)], [np.float64(-0.490344162250695), np.float64(-0.45993130582091196), np.float64(-0.46873416807926777), np.float64(-0.4585104827670618), np.float64(0.3452091161829474)]], [[np.float64(-0.49166555768510933), np.float64(-0.45201420869390657), np.float64(-0.4622823856776729), np.float64(-0.4585104827670618), np.float64(0.39344214902126273)], [np.float64(-0.4665590444312326), np.float64(-0.47576550007492324), np.float64(-0.4700245245595865), np.float64(-0.47879262485300766), np.float64(1.471817070462589)], [np.float64(-0.4731660216033051), np.float64(-0.4915996943289345), np.float64(-0.5009930800872417), np.float64(-0.46256691118425114), np.float64(0.47549192227761095)], [np.float64(-0.490344162250695), np.float64(-0.45993130582091196), np.float64(-0.46873416807926777), np.float64(-0.4585104827670618), np.float64(0.3452091161829474)], [np.float64(-0.4665590444312326), np.float64(-0.4876411457654316), np.float64(-0.49712201064628475), np.float64(-0.451749768738413), np.float64(-0.0915312921681235)]], [[np.float64(-0.4665590444312326), np.float64(-0.47576550007492324), np.float64(-0.4700245245595865), np.float64(-0.47879262485300766), np.float64(1.471817070462589)], [np.float64(-0.4731660216033051), np.float64(-0.4915996943289345), np.float64(-0.5009930800872417), np.float64(-0.46256691118425114), np.float64(0.47549192227761095)], [np.float64(-0.490344162250695), np.float64(-0.45993130582091196), np.float64(-0.46873416807926777), np.float64(-0.4585104827670618), np.float64(0.3452091161829474)], [np.float64(-0.4665590444312326), np.float64(-0.4876411457654316), np.float64(-0.49712201064628475), np.float64(-0.451749768738413), np.float64(-0.0915312921681235)], [np.float64(-0.4731660216033051), np.float64(-0.4572922734452435), np.float64(-0.4726052375202244), np.float64(-0.43822834068111594), np.float64(0.3105314761651701)]], [[np.float64(-0.4731660216033051), np.float64(-0.4915996943289345), np.float64(-0.5009930800872417), np.float64(-0.46256691118425114), np.float64(0.47549192227761095)], [np.float64(-0.490344162250695), np.float64(-0.45993130582091196), np.float64(-0.46873416807926777), np.float64(-0.4585104827670618), np.float64(0.3452091161829474)], [np.float64(-0.4665590444312326), np.float64(-0.4876411457654316), np.float64(-0.49712201064628475), np.float64(-0.451749768738413), np.float64(-0.0915312921681235)], [np.float64(-0.4731660216033051), np.float64(-0.4572922734452435), np.float64(-0.4726052375202244), np.float64(-0.43822834068111594), np.float64(0.3105314761651701)], [np.float64(-0.4599520672591596), np.float64(-0.4863216295775971), np.float64(-0.49067022824468987), np.float64(-0.451749768738413), np.float64(-0.21547817927870272)]], [[np.float64(-0.490344162250695), np.float64(-0.45993130582091196), np.float64(-0.46873416807926777), np.float64(-0.4585104827670618), np.float64(0.3452091161829474)], [np.float64(-0.4665590444312326), np.float64(-0.4876411457654316), np.float64(-0.49712201064628475), np.float64(-0.451749768738413), np.float64(-0.0915312921681235)], [np.float64(-0.4731660216033051), np.float64(-0.4572922734452435), np.float64(-0.4726052375202244), np.float64(-0.43822834068111594), np.float64(0.3105314761651701)], [np.float64(-0.4599520672591596), np.float64(-0.4863216295775971), np.float64(-0.49067022824468987), np.float64(-0.451749768738413), np.float64(-0.21547817927870272)], [np.float64(-0.490344162250695), np.float64(-0.5021558238316084), np.float64(-0.5061545060085175), np.float64(-0.5044833381618729), np.float64(0.20137091726774595)]], [[np.float64(-0.4665590444312326), np.float64(-0.4876411457654316), np.float64(-0.49712201064628475), np.float64(-0.451749768738413), np.float64(-0.0915312921681235)], [np.float64(-0.4731660216033051), np.float64(-0.4572922734452435), np.float64(-0.4726052375202244), np.float64(-0.43822834068111594), np.float64(0.3105314761651701)], [np.float64(-0.4599520672591596), np.float64(-0.4863216295775971), np.float64(-0.49067022824468987), np.float64(-0.451749768738413), np.float64(-0.21547817927870272)], [np.float64(-0.490344162250695), np.float64(-0.5021558238316084), np.float64(-0.5061545060085175), np.float64(-0.5044833381618729), np.float64(0.20137091726774595)], [np.float64(-0.48637997594745114), np.float64(-0.5496584065936417), np.float64(-0.5268002096936208), np.float64(-0.5125961949962511), np.float64(0.45854579331421974)]], [[np.float64(-0.4731660216033051), np.float64(-0.4572922734452435), np.float64(-0.4726052375202244), np.float64(-0.43822834068111594), np.float64(0.3105314761651701)], [np.float64(-0.4599520672591596), np.float64(-0.4863216295775971), np.float64(-0.49067022824468987), np.float64(-0.451749768738413), np.float64(-0.21547817927870272)], [np.float64(-0.490344162250695), np.float64(-0.5021558238316084), np.float64(-0.5061545060085175), np.float64(-0.5044833381618729), np.float64(0.20137091726774595)], [np.float64(-0.48637997594745114), np.float64(-0.5496584065936417), np.float64(-0.5268002096936208), np.float64(-0.5125961949962511), np.float64(0.45854579331421974)], [np.float64(-0.5379143978896199), np.float64(-0.5456998580301393), np.float64(-0.5642205476228705), np.float64(-0.5261176230535486), np.float64(0.11492602500217595)]], [[np.float64(-0.4599520672591596), np.float64(-0.4863216295775971), np.float64(-0.49067022824468987), np.float64(-0.451749768738413), np.float64(-0.21547817927870272)], [np.float64(-0.490344162250695), np.float64(-0.5021558238316084), np.float64(-0.5061545060085175), np.float64(-0.5044833381618729), np.float64(0.20137091726774595)], [np.float64(-0.48637997594745114), np.float64(-0.5496584065936417), np.float64(-0.5268002096936208), np.float64(-0.5125961949962511), np.float64(0.45854579331421974)], [np.float64(-0.5379143978896199), np.float64(-0.5456998580301393), np.float64(-0.5642205476228705), np.float64(-0.5261176230535486), np.float64(0.11492602500217595)], [np.float64(-0.5458427704961072), np.float64(-0.5760487303503274), np.float64(-0.5719626865047847), np.float64(-0.5477519079452244), np.float64(0.12911576489620985)]], [[np.float64(-0.490344162250695), np.float64(-0.5021558238316084), np.float64(-0.5061545060085175), np.float64(-0.5044833381618729), np.float64(0.20137091726774595)], [np.float64(-0.48637997594745114), np.float64(-0.5496584065936417), np.float64(-0.5268002096936208), np.float64(-0.5125961949962511), np.float64(0.45854579331421974)], [np.float64(-0.5379143978896199), np.float64(-0.5456998580301393), np.float64(-0.5642205476228705), np.float64(-0.5261176230535486), np.float64(0.11492602500217595)], [np.float64(-0.5458427704961072), np.float64(-0.5760487303503274), np.float64(-0.5719626865047847), np.float64(-0.5477519079452244), np.float64(0.12911576489620985)], [np.float64(-0.5788776563564717), np.float64(-0.5668121170354875), np.float64(-0.5642205476228705), np.float64(-0.5477519079452244), np.float64(-0.1645642748797796)]], [[np.float64(-0.48637997594745114), np.float64(-0.5496584065936417), np.float64(-0.5268002096936208), np.float64(-0.5125961949962511), np.float64(0.45854579331421974)], [np.float64(-0.5379143978896199), np.float64(-0.5456998580301393), np.float64(-0.5642205476228705), np.float64(-0.5261176230535486), np.float64(0.11492602500217595)], [np.float64(-0.5458427704961072), np.float64(-0.5760487303503274), np.float64(-0.5719626865047847), np.float64(-0.5477519079452244), np.float64(0.12911576489620985)], [np.float64(-0.5788776563564717), np.float64(-0.5668121170354875), np.float64(-0.5642205476228705), np.float64(-0.5477519079452244), np.float64(-0.1645642748797796)], [np.float64(-0.5616995157090823), np.float64(-0.5100729209586142), np.float64(-0.5306712791345779), np.float64(-0.5247654802478187), np.float64(0.2333525822231656)]]]\n",
      "=============================================\n",
      "               开盘     收盘     最高     最低     成交量     预测\n",
      "日期                                                   \n",
      "2010-01-04  48.88  47.30  49.08  47.25   23503  53.00\n",
      "2010-01-05  47.35  46.65  47.76  46.50   34171  51.75\n",
      "2010-01-06  46.65  46.84  47.51  46.60   31856  49.92\n",
      "2010-01-07  46.79  45.85  46.89  45.80   18728  50.85\n",
      "2010-01-08  45.85  46.69  47.40  45.85   30160  49.25\n",
      "...           ...    ...    ...    ...     ...    ...\n",
      "2024-09-10  19.25  18.78  19.25  18.76  219922    NaN\n",
      "2024-09-11  18.86  18.81  18.96  18.66  174420    NaN\n",
      "2024-09-12  18.80  18.58  18.90  18.50  176299    NaN\n",
      "2024-09-13  18.55  18.65  18.96  18.50  137410    NaN\n",
      "2024-09-18  18.68  19.08  19.22  18.67  190102    NaN\n",
      "\n",
      "[3550 rows x 6 columns]\n"
     ]
    }
   ],
   "source": [
    "print(len(X),X)\n",
    "print('=============================================')\n",
    "print(len(y),y)\n",
    "print('=============================================')\n",
    "print(len(X_lately),X_lately)\n",
    "print('=============================================')\n",
    "print(df)"
   ]
  },
  {
   "cell_type": "code",
   "execution_count": 84,
   "id": "3f206240-2858-412d-9c27-6dc730ef7cf0",
   "metadata": {},
   "outputs": [
    {
     "name": "stdout",
     "output_type": "stream",
     "text": [
      "-------sca_X: 3470\n",
      "X_lately: 10\n",
      "X: 3456\n",
      "y: 3456\n",
      "Epoch 1/50\n",
      "\u001b[1m98/98\u001b[0m \u001b[32m━━━━━━━━━━━━━━━━━━━━\u001b[0m\u001b[37m\u001b[0m \u001b[1m3s\u001b[0m 11ms/step - loss: 515.6301 - mape: 89.0584 - val_loss: 13.1371 - val_mape: 16.4833\n",
      "Epoch 2/50\n",
      "\u001b[1m98/98\u001b[0m \u001b[32m━━━━━━━━━━━━━━━━━━━━\u001b[0m\u001b[37m\u001b[0m \u001b[1m1s\u001b[0m 7ms/step - loss: 33.1066 - mape: 19.2078 - val_loss: 1.8178 - val_mape: 5.9367\n",
      "Epoch 3/50\n",
      "\u001b[1m98/98\u001b[0m \u001b[32m━━━━━━━━━━━━━━━━━━━━\u001b[0m\u001b[37m\u001b[0m \u001b[1m1s\u001b[0m 7ms/step - loss: 23.7154 - mape: 15.1536 - val_loss: 2.8705 - val_mape: 8.3590\n",
      "Epoch 4/50\n",
      "\u001b[1m98/98\u001b[0m \u001b[32m━━━━━━━━━━━━━━━━━━━━\u001b[0m\u001b[37m\u001b[0m \u001b[1m1s\u001b[0m 7ms/step - loss: 17.9429 - mape: 13.3748 - val_loss: 0.6495 - val_mape: 3.6694\n",
      "Epoch 5/50\n",
      "\u001b[1m98/98\u001b[0m \u001b[32m━━━━━━━━━━━━━━━━━━━━\u001b[0m\u001b[37m\u001b[0m \u001b[1m1s\u001b[0m 7ms/step - loss: 16.7617 - mape: 12.5387 - val_loss: 0.6955 - val_mape: 3.8508\n",
      "Epoch 6/50\n",
      "\u001b[1m98/98\u001b[0m \u001b[32m━━━━━━━━━━━━━━━━━━━━\u001b[0m\u001b[37m\u001b[0m \u001b[1m1s\u001b[0m 7ms/step - loss: 16.9877 - mape: 12.7947 - val_loss: 0.6927 - val_mape: 3.7232\n",
      "Epoch 7/50\n",
      "\u001b[1m98/98\u001b[0m \u001b[32m━━━━━━━━━━━━━━━━━━━━\u001b[0m\u001b[37m\u001b[0m \u001b[1m1s\u001b[0m 7ms/step - loss: 17.3303 - mape: 12.7801 - val_loss: 1.0392 - val_mape: 4.9948\n",
      "Epoch 8/50\n",
      "\u001b[1m98/98\u001b[0m \u001b[32m━━━━━━━━━━━━━━━━━━━━\u001b[0m\u001b[37m\u001b[0m \u001b[1m1s\u001b[0m 7ms/step - loss: 16.0266 - mape: 12.3487 - val_loss: 0.7517 - val_mape: 3.7325\n",
      "Epoch 9/50\n",
      "\u001b[1m98/98\u001b[0m \u001b[32m━━━━━━━━━━━━━━━━━━━━\u001b[0m\u001b[37m\u001b[0m \u001b[1m1s\u001b[0m 7ms/step - loss: 16.3665 - mape: 12.2516 - val_loss: 0.7418 - val_mape: 3.9178\n",
      "Epoch 10/50\n",
      "\u001b[1m98/98\u001b[0m \u001b[32m━━━━━━━━━━━━━━━━━━━━\u001b[0m\u001b[37m\u001b[0m \u001b[1m1s\u001b[0m 7ms/step - loss: 15.0024 - mape: 12.2173 - val_loss: 0.6564 - val_mape: 3.5452\n",
      "Epoch 11/50\n",
      "\u001b[1m98/98\u001b[0m \u001b[32m━━━━━━━━━━━━━━━━━━━━\u001b[0m\u001b[37m\u001b[0m \u001b[1m1s\u001b[0m 7ms/step - loss: 14.1307 - mape: 11.5332 - val_loss: 1.4032 - val_mape: 5.4935\n",
      "Epoch 12/50\n",
      "\u001b[1m98/98\u001b[0m \u001b[32m━━━━━━━━━━━━━━━━━━━━\u001b[0m\u001b[37m\u001b[0m \u001b[1m1s\u001b[0m 7ms/step - loss: 14.5106 - mape: 12.0511 - val_loss: 0.7964 - val_mape: 4.2576\n",
      "Epoch 13/50\n",
      "\u001b[1m98/98\u001b[0m \u001b[32m━━━━━━━━━━━━━━━━━━━━\u001b[0m\u001b[37m\u001b[0m \u001b[1m1s\u001b[0m 7ms/step - loss: 14.7863 - mape: 12.2336 - val_loss: 0.6734 - val_mape: 3.6057\n",
      "Epoch 14/50\n",
      "\u001b[1m98/98\u001b[0m \u001b[32m━━━━━━━━━━━━━━━━━━━━\u001b[0m\u001b[37m\u001b[0m \u001b[1m1s\u001b[0m 7ms/step - loss: 14.8934 - mape: 11.9396 - val_loss: 0.8747 - val_mape: 4.2228\n",
      "Epoch 15/50\n",
      "\u001b[1m98/98\u001b[0m \u001b[32m━━━━━━━━━━━━━━━━━━━━\u001b[0m\u001b[37m\u001b[0m \u001b[1m15s\u001b[0m 152ms/step - loss: 14.8110 - mape: 11.6196 - val_loss: 0.8938 - val_mape: 4.5678\n",
      "Epoch 16/50\n",
      "\u001b[1m98/98\u001b[0m \u001b[32m━━━━━━━━━━━━━━━━━━━━\u001b[0m\u001b[37m\u001b[0m \u001b[1m-13s\u001b[0m -139072us/step - loss: 14.0995 - mape: 11.6321 - val_loss: 1.5113 - val_mape: 6.2740\n",
      "Epoch 17/50\n",
      "\u001b[1m98/98\u001b[0m \u001b[32m━━━━━━━━━━━━━━━━━━━━\u001b[0m\u001b[37m\u001b[0m \u001b[1m1s\u001b[0m 7ms/step - loss: 14.5634 - mape: 12.3788 - val_loss: 0.8908 - val_mape: 4.1621\n",
      "Epoch 18/50\n",
      "\u001b[1m98/98\u001b[0m \u001b[32m━━━━━━━━━━━━━━━━━━━━\u001b[0m\u001b[37m\u001b[0m \u001b[1m1s\u001b[0m 7ms/step - loss: 14.4150 - mape: 11.6550 - val_loss: 0.7409 - val_mape: 3.7698\n",
      "Epoch 19/50\n",
      "\u001b[1m98/98\u001b[0m \u001b[32m━━━━━━━━━━━━━━━━━━━━\u001b[0m\u001b[37m\u001b[0m \u001b[1m1s\u001b[0m 7ms/step - loss: 15.6157 - mape: 12.1156 - val_loss: 1.5186 - val_mape: 5.5031\n",
      "Epoch 20/50\n",
      "\u001b[1m98/98\u001b[0m \u001b[32m━━━━━━━━━━━━━━━━━━━━\u001b[0m\u001b[37m\u001b[0m \u001b[1m1s\u001b[0m 7ms/step - loss: 14.1581 - mape: 11.3892 - val_loss: 0.6659 - val_mape: 3.6041\n",
      "Epoch 21/50\n",
      "\u001b[1m98/98\u001b[0m \u001b[32m━━━━━━━━━━━━━━━━━━━━\u001b[0m\u001b[37m\u001b[0m \u001b[1m1s\u001b[0m 7ms/step - loss: 14.2115 - mape: 11.4243 - val_loss: 0.9095 - val_mape: 4.5872\n",
      "Epoch 22/50\n",
      "\u001b[1m98/98\u001b[0m \u001b[32m━━━━━━━━━━━━━━━━━━━━\u001b[0m\u001b[37m\u001b[0m \u001b[1m1s\u001b[0m 7ms/step - loss: 14.2217 - mape: 11.5510 - val_loss: 0.7167 - val_mape: 3.7255\n",
      "Epoch 23/50\n",
      "\u001b[1m98/98\u001b[0m \u001b[32m━━━━━━━━━━━━━━━━━━━━\u001b[0m\u001b[37m\u001b[0m \u001b[1m1s\u001b[0m 7ms/step - loss: 13.9998 - mape: 11.8523 - val_loss: 2.0317 - val_mape: 6.9491\n",
      "Epoch 24/50\n",
      "\u001b[1m98/98\u001b[0m \u001b[32m━━━━━━━━━━━━━━━━━━━━\u001b[0m\u001b[37m\u001b[0m \u001b[1m1s\u001b[0m 7ms/step - loss: 14.3762 - mape: 11.5497 - val_loss: 0.6467 - val_mape: 3.5092\n",
      "Epoch 25/50\n",
      "\u001b[1m98/98\u001b[0m \u001b[32m━━━━━━━━━━━━━━━━━━━━\u001b[0m\u001b[37m\u001b[0m \u001b[1m1s\u001b[0m 7ms/step - loss: 13.3795 - mape: 11.3285 - val_loss: 1.3785 - val_mape: 5.2384\n",
      "Epoch 26/50\n",
      "\u001b[1m98/98\u001b[0m \u001b[32m━━━━━━━━━━━━━━━━━━━━\u001b[0m\u001b[37m\u001b[0m \u001b[1m1s\u001b[0m 7ms/step - loss: 12.7725 - mape: 11.0555 - val_loss: 0.9899 - val_mape: 4.4174\n",
      "Epoch 27/50\n",
      "\u001b[1m98/98\u001b[0m \u001b[32m━━━━━━━━━━━━━━━━━━━━\u001b[0m\u001b[37m\u001b[0m \u001b[1m1s\u001b[0m 7ms/step - loss: 13.0538 - mape: 11.3246 - val_loss: 0.7607 - val_mape: 3.6601\n",
      "Epoch 28/50\n",
      "\u001b[1m98/98\u001b[0m \u001b[32m━━━━━━━━━━━━━━━━━━━━\u001b[0m\u001b[37m\u001b[0m \u001b[1m1s\u001b[0m 7ms/step - loss: 14.1638 - mape: 11.3910 - val_loss: 0.7456 - val_mape: 3.8143\n",
      "Epoch 29/50\n",
      "\u001b[1m98/98\u001b[0m \u001b[32m━━━━━━━━━━━━━━━━━━━━\u001b[0m\u001b[37m\u001b[0m \u001b[1m1s\u001b[0m 7ms/step - loss: 13.8207 - mape: 11.2952 - val_loss: 0.9035 - val_mape: 4.4889\n",
      "Epoch 30/50\n",
      "\u001b[1m98/98\u001b[0m \u001b[32m━━━━━━━━━━━━━━━━━━━━\u001b[0m\u001b[37m\u001b[0m \u001b[1m1s\u001b[0m 7ms/step - loss: 12.0064 - mape: 10.7853 - val_loss: 0.9446 - val_mape: 4.2902\n",
      "Epoch 31/50\n",
      "\u001b[1m98/98\u001b[0m \u001b[32m━━━━━━━━━━━━━━━━━━━━\u001b[0m\u001b[37m\u001b[0m \u001b[1m1s\u001b[0m 7ms/step - loss: 12.8092 - mape: 10.9259 - val_loss: 0.6561 - val_mape: 3.5736\n",
      "Epoch 32/50\n",
      "\u001b[1m98/98\u001b[0m \u001b[32m━━━━━━━━━━━━━━━━━━━━\u001b[0m\u001b[37m\u001b[0m \u001b[1m1s\u001b[0m 7ms/step - loss: 15.1669 - mape: 11.6532 - val_loss: 2.2784 - val_mape: 7.9733\n",
      "Epoch 33/50\n",
      "\u001b[1m98/98\u001b[0m \u001b[32m━━━━━━━━━━━━━━━━━━━━\u001b[0m\u001b[37m\u001b[0m \u001b[1m1s\u001b[0m 7ms/step - loss: 12.9421 - mape: 11.4099 - val_loss: 0.7761 - val_mape: 3.9266\n",
      "Epoch 34/50\n",
      "\u001b[1m98/98\u001b[0m \u001b[32m━━━━━━━━━━━━━━━━━━━━\u001b[0m\u001b[37m\u001b[0m \u001b[1m1s\u001b[0m 7ms/step - loss: 12.3453 - mape: 10.7992 - val_loss: 0.9006 - val_mape: 4.2923\n",
      "Epoch 35/50\n",
      "\u001b[1m98/98\u001b[0m \u001b[32m━━━━━━━━━━━━━━━━━━━━\u001b[0m\u001b[37m\u001b[0m \u001b[1m1s\u001b[0m 7ms/step - loss: 12.6811 - mape: 11.1450 - val_loss: 0.7002 - val_mape: 3.5760\n",
      "Epoch 36/50\n",
      "\u001b[1m98/98\u001b[0m \u001b[32m━━━━━━━━━━━━━━━━━━━━\u001b[0m\u001b[37m\u001b[0m \u001b[1m1s\u001b[0m 7ms/step - loss: 13.2326 - mape: 11.3840 - val_loss: 0.9623 - val_mape: 4.5130\n",
      "Epoch 37/50\n",
      "\u001b[1m98/98\u001b[0m \u001b[32m━━━━━━━━━━━━━━━━━━━━\u001b[0m\u001b[37m\u001b[0m \u001b[1m15s\u001b[0m 152ms/step - loss: 13.2601 - mape: 11.0053 - val_loss: 0.6834 - val_mape: 3.5186\n",
      "Epoch 38/50\n",
      "\u001b[1m98/98\u001b[0m \u001b[32m━━━━━━━━━━━━━━━━━━━━\u001b[0m\u001b[37m\u001b[0m \u001b[1m-13s\u001b[0m -138938us/step - loss: 11.8067 - mape: 10.6527 - val_loss: 1.4050 - val_mape: 6.0594\n",
      "Epoch 39/50\n",
      "\u001b[1m98/98\u001b[0m \u001b[32m━━━━━━━━━━━━━━━━━━━━\u001b[0m\u001b[37m\u001b[0m \u001b[1m1s\u001b[0m 7ms/step - loss: 11.8191 - mape: 10.8851 - val_loss: 0.8561 - val_mape: 4.1048\n",
      "Epoch 40/50\n",
      "\u001b[1m98/98\u001b[0m \u001b[32m━━━━━━━━━━━━━━━━━━━━\u001b[0m\u001b[37m\u001b[0m \u001b[1m1s\u001b[0m 7ms/step - loss: 12.6144 - mape: 11.0003 - val_loss: 0.9949 - val_mape: 4.4250\n",
      "Epoch 41/50\n",
      "\u001b[1m98/98\u001b[0m \u001b[32m━━━━━━━━━━━━━━━━━━━━\u001b[0m\u001b[37m\u001b[0m \u001b[1m1s\u001b[0m 7ms/step - loss: 12.8974 - mape: 11.2504 - val_loss: 0.8386 - val_mape: 4.1976\n",
      "Epoch 42/50\n",
      "\u001b[1m98/98\u001b[0m \u001b[32m━━━━━━━━━━━━━━━━━━━━\u001b[0m\u001b[37m\u001b[0m \u001b[1m1s\u001b[0m 7ms/step - loss: 12.9381 - mape: 11.1428 - val_loss: 0.8474 - val_mape: 4.0179\n",
      "Epoch 43/50\n",
      "\u001b[1m98/98\u001b[0m \u001b[32m━━━━━━━━━━━━━━━━━━━━\u001b[0m\u001b[37m\u001b[0m \u001b[1m1s\u001b[0m 7ms/step - loss: 12.3601 - mape: 10.8780 - val_loss: 1.2097 - val_mape: 5.4123\n",
      "Epoch 44/50\n",
      "\u001b[1m98/98\u001b[0m \u001b[32m━━━━━━━━━━━━━━━━━━━━\u001b[0m\u001b[37m\u001b[0m \u001b[1m1s\u001b[0m 7ms/step - loss: 12.8327 - mape: 11.0299 - val_loss: 0.7357 - val_mape: 3.6950\n",
      "Epoch 45/50\n",
      "\u001b[1m98/98\u001b[0m \u001b[32m━━━━━━━━━━━━━━━━━━━━\u001b[0m\u001b[37m\u001b[0m \u001b[1m1s\u001b[0m 7ms/step - loss: 13.0281 - mape: 10.9070 - val_loss: 0.9083 - val_mape: 4.3836\n",
      "Epoch 46/50\n",
      "\u001b[1m98/98\u001b[0m \u001b[32m━━━━━━━━━━━━━━━━━━━━\u001b[0m\u001b[37m\u001b[0m \u001b[1m1s\u001b[0m 7ms/step - loss: 12.5330 - mape: 10.8008 - val_loss: 0.8318 - val_mape: 3.9720\n",
      "Epoch 47/50\n",
      "\u001b[1m98/98\u001b[0m \u001b[32m━━━━━━━━━━━━━━━━━━━━\u001b[0m\u001b[37m\u001b[0m \u001b[1m1s\u001b[0m 7ms/step - loss: 13.0491 - mape: 10.8905 - val_loss: 0.8454 - val_mape: 4.2261\n",
      "Epoch 48/50\n",
      "\u001b[1m98/98\u001b[0m \u001b[32m━━━━━━━━━━━━━━━━━━━━\u001b[0m\u001b[37m\u001b[0m \u001b[1m1s\u001b[0m 7ms/step - loss: 13.0810 - mape: 10.7121 - val_loss: 0.8736 - val_mape: 4.0960\n",
      "Epoch 49/50\n",
      "\u001b[1m98/98\u001b[0m \u001b[32m━━━━━━━━━━━━━━━━━━━━\u001b[0m\u001b[37m\u001b[0m \u001b[1m1s\u001b[0m 7ms/step - loss: 11.8172 - mape: 10.8350 - val_loss: 0.9523 - val_mape: 4.1323\n",
      "Epoch 50/50\n",
      "\u001b[1m98/98\u001b[0m \u001b[32m━━━━━━━━━━━━━━━━━━━━\u001b[0m\u001b[37m\u001b[0m \u001b[1m1s\u001b[0m 7ms/step - loss: 12.0786 - mape: 10.6150 - val_loss: 0.7638 - val_mape: 3.8125\n"
     ]
    }
   ],
   "source": [
    "pre_days = 10\n",
    "# mem_days = [5,10,15]\n",
    "# lstm_layers = [1,2,3]\n",
    "# dense_layers = [1,2,3]\n",
    "# units = [16,32]\n",
    "mem_days = [5]\n",
    "lstm_layers = [1]\n",
    "dense_layers = [1]\n",
    "units = [32]\n",
    "from tensorflow.keras.callbacks import ModelCheckpoint\n",
    "for the_mem_days in mem_days:\n",
    "    for the_lstm_layers in lstm_layers:\n",
    "        for the_dense_layers in dense_layers:\n",
    "            for the_units in units:\n",
    "                filepath = './models/{val_mape:.2f}_{epoch:02d}_'+f'men_{the_mem_days}_lstm_{the_lstm_layers}_dense_{the_dense_layers}_unit_{the_units}.keras'\n",
    "                checkpoint = ModelCheckpoint(\n",
    "                    filepath=filepath,\n",
    "                    save_weights_only=False,\n",
    "                    monitor='val_mape',\n",
    "                    mode='min',\n",
    "                    save_best_only=True)\n",
    "\n",
    "                X,y,X_lately = Stock_Price_LSTM_Data_Precesing(df,the_mem_days,pre_days)\n",
    "                from sklearn.model_selection import train_test_split\n",
    "                X_train, X_test, y_train, y_test = train_test_split(X,y,shuffle=False,test_size=0.1)\n",
    "\n",
    "                #构建LSTM模型\n",
    "                import tensorflow as tf\n",
    "                from tensorflow.keras.models import Sequential\n",
    "                from tensorflow.keras.layers import Input,LSTM, Dense, Dropout\n",
    "                model = Sequential()\n",
    "                model.add(Input(shape=X.shape[1:]))  # ✅ 这里先加 Input 层\n",
    "                #model.add(LSTM(the_units,input_shape=X.shape[1:],activation='relu',return_sequences=True))\n",
    "                model.add(LSTM(the_units, activation='relu', return_sequences=True))\n",
    "                model.add(Dropout(0.1))\n",
    "                \n",
    "                for i in range(the_lstm_layers):\n",
    "                    model.add(LSTM(the_units,activation='relu',return_sequences=True))\n",
    "                    model.add(Dropout(0.1))\n",
    "\n",
    "                model.add(LSTM(the_units,activation='relu'))\n",
    "                model.add(Dropout(0.1))\n",
    "\n",
    "                for i in range(the_dense_layers):\n",
    "                    model.add(Dense(the_units,activation='relu'))\n",
    "                    model.add(Dropout(0.1))\n",
    "\n",
    "                model.add(Dense(1))\n",
    "\n",
    "                model.compile(optimizer='adam',\n",
    "                             loss='mse',\n",
    "                             metrics=['mape'])\n",
    "\n",
    "                model.fit(X_train,y_train,batch_size=32,epochs=50,validation_data=(X_test,y_test),callbacks=[checkpoint])"
   ]
  },
  {
   "cell_type": "code",
   "execution_count": 85,
   "id": "8752229f-22ca-4afd-a6e6-eadf99d0b107",
   "metadata": {},
   "outputs": [
    {
     "name": "stdout",
     "output_type": "stream",
     "text": [
      "               开盘     收盘     最高     最低     成交量  预测\n",
      "日期                                                \n",
      "2024-05-13  19.98  19.86  20.04  19.62  257075 NaN\n",
      "2024-05-14  19.86  20.50  20.70  19.77  441096 NaN\n",
      "2024-05-15  20.35  20.25  20.70  20.15  233722 NaN\n",
      "2024-05-16  20.24  19.91  20.36  19.80  233274 NaN\n",
      "2024-05-17  19.85  19.82  19.94  19.43  271676 NaN\n",
      "2024-05-20  19.78  19.87  19.98  19.58  180775 NaN\n",
      "2024-05-21  19.80  19.94  20.14  19.80  153618 NaN\n",
      "2024-05-22  19.95  19.66  20.00  19.57  216201 NaN\n",
      "2024-05-23  19.73  19.52  19.80  19.44  143053 NaN\n",
      "2024-05-24  19.48  19.33  19.64  19.27  140093 NaN\n"
     ]
    }
   ],
   "source": [
    "print(df.tail(10))"
   ]
  },
  {
   "cell_type": "code",
   "execution_count": 86,
   "id": "de6f4f2d-e0db-434d-9d83-a7f9b23878e6",
   "metadata": {},
   "outputs": [],
   "source": [
    "from tensorflow.keras.models import load_model\n",
    "best_model = load_model('./models/3.51_24_men_5_lstm_1_dense_1_unit_32.keras')"
   ]
  },
  {
   "cell_type": "code",
   "execution_count": 87,
   "id": "e589b0e1-8afd-4945-8739-cf1aae23bfd4",
   "metadata": {},
   "outputs": [
    {
     "data": {
      "text/html": [
       "<pre style=\"white-space:pre;overflow-x:auto;line-height:normal;font-family:Menlo,'DejaVu Sans Mono',consolas,'Courier New',monospace\"><span style=\"font-weight: bold\">Model: \"sequential_4\"</span>\n",
       "</pre>\n"
      ],
      "text/plain": [
       "\u001b[1mModel: \"sequential_4\"\u001b[0m\n"
      ]
     },
     "metadata": {},
     "output_type": "display_data"
    },
    {
     "data": {
      "text/html": [
       "<pre style=\"white-space:pre;overflow-x:auto;line-height:normal;font-family:Menlo,'DejaVu Sans Mono',consolas,'Courier New',monospace\">┏━━━━━━━━━━━━━━━━━━━━━━━━━━━━━━━━━┳━━━━━━━━━━━━━━━━━━━━━━━━┳━━━━━━━━━━━━━━━┓\n",
       "┃<span style=\"font-weight: bold\"> Layer (type)                    </span>┃<span style=\"font-weight: bold\"> Output Shape           </span>┃<span style=\"font-weight: bold\">       Param # </span>┃\n",
       "┡━━━━━━━━━━━━━━━━━━━━━━━━━━━━━━━━━╇━━━━━━━━━━━━━━━━━━━━━━━━╇━━━━━━━━━━━━━━━┩\n",
       "│ lstm_12 (<span style=\"color: #0087ff; text-decoration-color: #0087ff\">LSTM</span>)                  │ (<span style=\"color: #00d7ff; text-decoration-color: #00d7ff\">None</span>, <span style=\"color: #00af00; text-decoration-color: #00af00\">5</span>, <span style=\"color: #00af00; text-decoration-color: #00af00\">32</span>)          │         <span style=\"color: #00af00; text-decoration-color: #00af00\">4,864</span> │\n",
       "├─────────────────────────────────┼────────────────────────┼───────────────┤\n",
       "│ dropout_16 (<span style=\"color: #0087ff; text-decoration-color: #0087ff\">Dropout</span>)            │ (<span style=\"color: #00d7ff; text-decoration-color: #00d7ff\">None</span>, <span style=\"color: #00af00; text-decoration-color: #00af00\">5</span>, <span style=\"color: #00af00; text-decoration-color: #00af00\">32</span>)          │             <span style=\"color: #00af00; text-decoration-color: #00af00\">0</span> │\n",
       "├─────────────────────────────────┼────────────────────────┼───────────────┤\n",
       "│ lstm_13 (<span style=\"color: #0087ff; text-decoration-color: #0087ff\">LSTM</span>)                  │ (<span style=\"color: #00d7ff; text-decoration-color: #00d7ff\">None</span>, <span style=\"color: #00af00; text-decoration-color: #00af00\">5</span>, <span style=\"color: #00af00; text-decoration-color: #00af00\">32</span>)          │         <span style=\"color: #00af00; text-decoration-color: #00af00\">8,320</span> │\n",
       "├─────────────────────────────────┼────────────────────────┼───────────────┤\n",
       "│ dropout_17 (<span style=\"color: #0087ff; text-decoration-color: #0087ff\">Dropout</span>)            │ (<span style=\"color: #00d7ff; text-decoration-color: #00d7ff\">None</span>, <span style=\"color: #00af00; text-decoration-color: #00af00\">5</span>, <span style=\"color: #00af00; text-decoration-color: #00af00\">32</span>)          │             <span style=\"color: #00af00; text-decoration-color: #00af00\">0</span> │\n",
       "├─────────────────────────────────┼────────────────────────┼───────────────┤\n",
       "│ lstm_14 (<span style=\"color: #0087ff; text-decoration-color: #0087ff\">LSTM</span>)                  │ (<span style=\"color: #00d7ff; text-decoration-color: #00d7ff\">None</span>, <span style=\"color: #00af00; text-decoration-color: #00af00\">32</span>)             │         <span style=\"color: #00af00; text-decoration-color: #00af00\">8,320</span> │\n",
       "├─────────────────────────────────┼────────────────────────┼───────────────┤\n",
       "│ dropout_18 (<span style=\"color: #0087ff; text-decoration-color: #0087ff\">Dropout</span>)            │ (<span style=\"color: #00d7ff; text-decoration-color: #00d7ff\">None</span>, <span style=\"color: #00af00; text-decoration-color: #00af00\">32</span>)             │             <span style=\"color: #00af00; text-decoration-color: #00af00\">0</span> │\n",
       "├─────────────────────────────────┼────────────────────────┼───────────────┤\n",
       "│ dense_8 (<span style=\"color: #0087ff; text-decoration-color: #0087ff\">Dense</span>)                 │ (<span style=\"color: #00d7ff; text-decoration-color: #00d7ff\">None</span>, <span style=\"color: #00af00; text-decoration-color: #00af00\">32</span>)             │         <span style=\"color: #00af00; text-decoration-color: #00af00\">1,056</span> │\n",
       "├─────────────────────────────────┼────────────────────────┼───────────────┤\n",
       "│ dropout_19 (<span style=\"color: #0087ff; text-decoration-color: #0087ff\">Dropout</span>)            │ (<span style=\"color: #00d7ff; text-decoration-color: #00d7ff\">None</span>, <span style=\"color: #00af00; text-decoration-color: #00af00\">32</span>)             │             <span style=\"color: #00af00; text-decoration-color: #00af00\">0</span> │\n",
       "├─────────────────────────────────┼────────────────────────┼───────────────┤\n",
       "│ dense_9 (<span style=\"color: #0087ff; text-decoration-color: #0087ff\">Dense</span>)                 │ (<span style=\"color: #00d7ff; text-decoration-color: #00d7ff\">None</span>, <span style=\"color: #00af00; text-decoration-color: #00af00\">1</span>)              │            <span style=\"color: #00af00; text-decoration-color: #00af00\">33</span> │\n",
       "└─────────────────────────────────┴────────────────────────┴───────────────┘\n",
       "</pre>\n"
      ],
      "text/plain": [
       "┏━━━━━━━━━━━━━━━━━━━━━━━━━━━━━━━━━┳━━━━━━━━━━━━━━━━━━━━━━━━┳━━━━━━━━━━━━━━━┓\n",
       "┃\u001b[1m \u001b[0m\u001b[1mLayer (type)                   \u001b[0m\u001b[1m \u001b[0m┃\u001b[1m \u001b[0m\u001b[1mOutput Shape          \u001b[0m\u001b[1m \u001b[0m┃\u001b[1m \u001b[0m\u001b[1m      Param #\u001b[0m\u001b[1m \u001b[0m┃\n",
       "┡━━━━━━━━━━━━━━━━━━━━━━━━━━━━━━━━━╇━━━━━━━━━━━━━━━━━━━━━━━━╇━━━━━━━━━━━━━━━┩\n",
       "│ lstm_12 (\u001b[38;5;33mLSTM\u001b[0m)                  │ (\u001b[38;5;45mNone\u001b[0m, \u001b[38;5;34m5\u001b[0m, \u001b[38;5;34m32\u001b[0m)          │         \u001b[38;5;34m4,864\u001b[0m │\n",
       "├─────────────────────────────────┼────────────────────────┼───────────────┤\n",
       "│ dropout_16 (\u001b[38;5;33mDropout\u001b[0m)            │ (\u001b[38;5;45mNone\u001b[0m, \u001b[38;5;34m5\u001b[0m, \u001b[38;5;34m32\u001b[0m)          │             \u001b[38;5;34m0\u001b[0m │\n",
       "├─────────────────────────────────┼────────────────────────┼───────────────┤\n",
       "│ lstm_13 (\u001b[38;5;33mLSTM\u001b[0m)                  │ (\u001b[38;5;45mNone\u001b[0m, \u001b[38;5;34m5\u001b[0m, \u001b[38;5;34m32\u001b[0m)          │         \u001b[38;5;34m8,320\u001b[0m │\n",
       "├─────────────────────────────────┼────────────────────────┼───────────────┤\n",
       "│ dropout_17 (\u001b[38;5;33mDropout\u001b[0m)            │ (\u001b[38;5;45mNone\u001b[0m, \u001b[38;5;34m5\u001b[0m, \u001b[38;5;34m32\u001b[0m)          │             \u001b[38;5;34m0\u001b[0m │\n",
       "├─────────────────────────────────┼────────────────────────┼───────────────┤\n",
       "│ lstm_14 (\u001b[38;5;33mLSTM\u001b[0m)                  │ (\u001b[38;5;45mNone\u001b[0m, \u001b[38;5;34m32\u001b[0m)             │         \u001b[38;5;34m8,320\u001b[0m │\n",
       "├─────────────────────────────────┼────────────────────────┼───────────────┤\n",
       "│ dropout_18 (\u001b[38;5;33mDropout\u001b[0m)            │ (\u001b[38;5;45mNone\u001b[0m, \u001b[38;5;34m32\u001b[0m)             │             \u001b[38;5;34m0\u001b[0m │\n",
       "├─────────────────────────────────┼────────────────────────┼───────────────┤\n",
       "│ dense_8 (\u001b[38;5;33mDense\u001b[0m)                 │ (\u001b[38;5;45mNone\u001b[0m, \u001b[38;5;34m32\u001b[0m)             │         \u001b[38;5;34m1,056\u001b[0m │\n",
       "├─────────────────────────────────┼────────────────────────┼───────────────┤\n",
       "│ dropout_19 (\u001b[38;5;33mDropout\u001b[0m)            │ (\u001b[38;5;45mNone\u001b[0m, \u001b[38;5;34m32\u001b[0m)             │             \u001b[38;5;34m0\u001b[0m │\n",
       "├─────────────────────────────────┼────────────────────────┼───────────────┤\n",
       "│ dense_9 (\u001b[38;5;33mDense\u001b[0m)                 │ (\u001b[38;5;45mNone\u001b[0m, \u001b[38;5;34m1\u001b[0m)              │            \u001b[38;5;34m33\u001b[0m │\n",
       "└─────────────────────────────────┴────────────────────────┴───────────────┘\n"
      ]
     },
     "metadata": {},
     "output_type": "display_data"
    },
    {
     "data": {
      "text/html": [
       "<pre style=\"white-space:pre;overflow-x:auto;line-height:normal;font-family:Menlo,'DejaVu Sans Mono',consolas,'Courier New',monospace\"><span style=\"font-weight: bold\"> Total params: </span><span style=\"color: #00af00; text-decoration-color: #00af00\">67,781</span> (264.77 KB)\n",
       "</pre>\n"
      ],
      "text/plain": [
       "\u001b[1m Total params: \u001b[0m\u001b[38;5;34m67,781\u001b[0m (264.77 KB)\n"
      ]
     },
     "metadata": {},
     "output_type": "display_data"
    },
    {
     "data": {
      "text/html": [
       "<pre style=\"white-space:pre;overflow-x:auto;line-height:normal;font-family:Menlo,'DejaVu Sans Mono',consolas,'Courier New',monospace\"><span style=\"font-weight: bold\"> Trainable params: </span><span style=\"color: #00af00; text-decoration-color: #00af00\">22,593</span> (88.25 KB)\n",
       "</pre>\n"
      ],
      "text/plain": [
       "\u001b[1m Trainable params: \u001b[0m\u001b[38;5;34m22,593\u001b[0m (88.25 KB)\n"
      ]
     },
     "metadata": {},
     "output_type": "display_data"
    },
    {
     "data": {
      "text/html": [
       "<pre style=\"white-space:pre;overflow-x:auto;line-height:normal;font-family:Menlo,'DejaVu Sans Mono',consolas,'Courier New',monospace\"><span style=\"font-weight: bold\"> Non-trainable params: </span><span style=\"color: #00af00; text-decoration-color: #00af00\">0</span> (0.00 B)\n",
       "</pre>\n"
      ],
      "text/plain": [
       "\u001b[1m Non-trainable params: \u001b[0m\u001b[38;5;34m0\u001b[0m (0.00 B)\n"
      ]
     },
     "metadata": {},
     "output_type": "display_data"
    },
    {
     "data": {
      "text/html": [
       "<pre style=\"white-space:pre;overflow-x:auto;line-height:normal;font-family:Menlo,'DejaVu Sans Mono',consolas,'Courier New',monospace\"><span style=\"font-weight: bold\"> Optimizer params: </span><span style=\"color: #00af00; text-decoration-color: #00af00\">45,188</span> (176.52 KB)\n",
       "</pre>\n"
      ],
      "text/plain": [
       "\u001b[1m Optimizer params: \u001b[0m\u001b[38;5;34m45,188\u001b[0m (176.52 KB)\n"
      ]
     },
     "metadata": {},
     "output_type": "display_data"
    },
    {
     "name": "stdout",
     "output_type": "stream",
     "text": [
      "\u001b[1m11/11\u001b[0m \u001b[32m━━━━━━━━━━━━━━━━━━━━\u001b[0m\u001b[37m\u001b[0m \u001b[1m0s\u001b[0m 4ms/step - loss: 0.5261 - mape: 3.3864  \n",
      "\u001b[1m11/11\u001b[0m \u001b[32m━━━━━━━━━━━━━━━━━━━━\u001b[0m\u001b[37m\u001b[0m \u001b[1m0s\u001b[0m 22ms/step \n",
      "346\n"
     ]
    }
   ],
   "source": [
    "best_model.summary()\n",
    "best_model.evaluate(X_test,y_test)\n",
    "pre = best_model.predict(X_test)\n",
    "print(len(pre))"
   ]
  },
  {
   "cell_type": "code",
   "execution_count": 88,
   "id": "418230e9-2bd6-413e-bdc2-e4adcea73102",
   "metadata": {},
   "outputs": [
    {
     "name": "stdout",
     "output_type": "stream",
     "text": [
      "\u001b[1m11/11\u001b[0m \u001b[32m━━━━━━━━━━━━━━━━━━━━\u001b[0m\u001b[37m\u001b[0m \u001b[1m0s\u001b[0m 3ms/step - loss: 0.7641 - mape: 3.8457 \n"
     ]
    },
    {
     "data": {
      "text/plain": [
       "[0.7637622952461243, 3.8125016689300537]"
      ]
     },
     "execution_count": 88,
     "metadata": {},
     "output_type": "execute_result"
    }
   ],
   "source": [
    "model.evaluate(X_test,y_test)"
   ]
  },
  {
   "cell_type": "code",
   "execution_count": 89,
   "id": "fef2111a-cdbe-4ae4-abab-bab296960ad1",
   "metadata": {},
   "outputs": [
    {
     "name": "stdout",
     "output_type": "stream",
     "text": [
      "               开盘     收盘     最高     最低     成交量  预测\n",
      "日期                                                \n",
      "2024-05-13  19.98  19.86  20.04  19.62  257075 NaN\n",
      "2024-05-14  19.86  20.50  20.70  19.77  441096 NaN\n",
      "2024-05-15  20.35  20.25  20.70  20.15  233722 NaN\n",
      "2024-05-16  20.24  19.91  20.36  19.80  233274 NaN\n",
      "2024-05-17  19.85  19.82  19.94  19.43  271676 NaN\n",
      "2024-05-20  19.78  19.87  19.98  19.58  180775 NaN\n",
      "2024-05-21  19.80  19.94  20.14  19.80  153618 NaN\n",
      "2024-05-22  19.95  19.66  20.00  19.57  216201 NaN\n",
      "2024-05-23  19.73  19.52  19.80  19.44  143053 NaN\n",
      "2024-05-24  19.48  19.33  19.64  19.27  140093 NaN\n",
      "y_test 长度: 346\n",
      "df_time 取值范围: 2022-12-16 到 2024-05-24\n"
     ]
    },
    {
     "data": {
      "image/png": "[encoded data removed]",
      "text/plain": [
       "<Figure size 640x480 with 1 Axes>"
      ]
     },
     "metadata": {},
     "output_type": "display_data"
    }
   ],
   "source": [
    "import matplotlib.pyplot as plt\n",
    "df_time = df.index[-len(y_test):]\n",
    "\n",
    "print(df.tail(10))\n",
    "print(\"y_test 长度:\", len(y_test))\n",
    "print(\"df_time 取值范围:\", df_time.min(), \"到\", df_time.max())\n",
    "\n",
    "plt.plot(df_time,y_test,color='red',label='price')\n",
    "#plt.plot(df_time,pre,color='green',label='predict')\n",
    "plt.show()"
   ]
  },
  {
   "cell_type": "code",
   "execution_count": null,
   "id": "d3be774a-19c0-43db-af26-ff31a4e8cde1",
   "metadata": {},
   "outputs": [],
   "source": []
  },
  {
   "cell_type": "code",
   "execution_count": null,
   "id": "b7a848f0-d925-4cd2-99d6-15c454768729",
   "metadata": {},
   "outputs": [],
   "source": []
  }
 ],
 "metadata": {
  "kernelspec": {
   "display_name": "Python 3 (ipykernel)",
   "language": "python",
   "name": "python3"
  },
  "language_info": {
   "codemirror_mode": {
    "name": "ipython",
    "version": 3
   },
   "file_extension": ".py",
   "mimetype": "text/x-python",
   "name": "python",
   "nbconvert_exporter": "python",
   "pygments_lexer": "ipython3",
   "version": "3.9.21"
  }
 },
 "nbformat": 4,
 "nbformat_minor": 5
}
