{
 "cells": [
  {
   "cell_type": "code",
   "execution_count": null,
   "id": "68c21297-3732-4eae-a511-6bcc3f730eb8",
   "metadata": {},
   "outputs": [],
   "source": [
    "import akshare as ak\n",
    "import pandas as pd\n",
    "from datetime import datetime, timedelta\n",
    "import json\n",
    "import os\n",
    "import time"
   ]
  },
  {
   "cell_type": "code",
   "execution_count": null,
   "id": "8d2bd8de-20d0-4d83-a05b-4e1dfccd659b",
   "metadata": {},
   "outputs": [],
   "source": [
    "# 读取 JSON 文件中的股票列表\n",
    "file_path = \"data/a_name.json\"\n",
    "\n",
    "if os.path.exists(file_path):\n",
    "    stock_list = pd.read_json(file_path)\n",
    "else:\n",
    "    # 如果文件不存在，则从 akshare 获取数据\n",
    "    stock_list = ak.stock_info_a_code_name()\n",
    "    stock_list[\"Roe\"] = 0.0\n",
    "    stock_list[\"Pe_ttm\"] = 0.0\n",
    "    stock_list.to_json(file_path, orient=\"records\", force_ascii=False, indent=4)\n",
    "\n",
    "code_file_path = \"data/a_name_list.json\"\n",
    "if os.path.exists(code_file_path):\n",
    "    original_stock_list = pd.read_json(code_file_path)"
   ]
  },
  {
   "cell_type": "code",
   "execution_count": null,
   "id": "4be52c09-604a-4be6-a0d8-0782c4c316dd",
   "metadata": {},
   "outputs": [],
   "source": [
    "for index, row in original_stock_list.iterrows():\n",
    "    stock_code = str(row[\"code\"]).zfill(6)  # 确保股票代码格式正确\n",
    "    stock_name = row[\"name\"]\n",
    "    print(f\"{index},{stock_code},{stock_name}\")\n",
    "    stock_list.at[index, \"code\"] = stock_code\n",
    "stock_list.to_json(file_path, orient=\"records\", force_ascii=False, indent=4)\n",
    "print(stock_list)"
   ]
  },
  {
   "cell_type": "code",
   "execution_count": null,
   "id": "a164428d-3fa1-4bcc-973f-315457224723",
   "metadata": {},
   "outputs": [],
   "source": [
    "def get_roe(stock_code):\n",
    "    try:\n",
    "        print(f\"开始获取{stock_code}数据\")\n",
    "        financial_data = ak.stock_financial_analysis_indicator(symbol=stock_code,start_year=\"2022\")\n",
    "        # **判断返回的数据是否为空**\n",
    "        if financial_data is None:\n",
    "            print(f\"⚠️ 获取 {stock_code} 的 ROE 数据为空，可能是接口问题或无数据\")\n",
    "            return None\n",
    "        \n",
    "        if financial_data.empty:\n",
    "            print(f\"⚠️ {stock_code} 没有财务数据，跳过\")\n",
    "            return None\n",
    "        \n",
    "        last_row = financial_data.iloc[-1]  # 获取最近一期数据\n",
    "\n",
    "        if \"净资产收益率(%)\" in last_row:\n",
    "            return float(last_row[\"净资产收益率(%)\"])\n",
    "        else:\n",
    "            print(f\"⚠️ {stock_code} 的数据中没有找到 '净资产收益率' 字段\")\n",
    "            return None\n",
    "\n",
    "    except Exception as e:\n",
    "        print(f\"❌ 获取 {stock_code} ROE 时发生错误: {e}\")\n",
    "        return None\n",
    "\n"
   ]
  },
  {
   "cell_type": "code",
   "execution_count": 56,
   "id": "68f8bd70-34f1-47a6-9265-071032329d52",
   "metadata": {},
   "outputs": [],
   "source": [
    "#获取pe市盈率\n",
    "def get_pe(stock_code):\n",
    "    try:\n",
    "        print(f\"PE_开始获取{stock_code}数据\")\n",
    "        stock_a_indicator_lg_df = ak.stock_a_indicator_lg(symbol=stock_code)\n",
    "        if stock_a_indicator_lg_df is None:\n",
    "            return 0\n",
    "        # 获取最近一日数据\n",
    "        last_row = stock_a_indicator_lg_df.iloc[-1]\n",
    "        if \"pe_ttm\" in last_row.index:\n",
    "                return last_row['pe_ttm']\n",
    "        else:\n",
    "            return 0\n",
    "    except AttributeError as e:\n",
    "        return 0\n",
    "    except Exception as e:\n",
    "        return 0"
   ]
  },
  {
   "cell_type": "code",
   "execution_count": 62,
   "id": "51258805-7d3f-4276-8c79-4e4c52cb5eaa",
   "metadata": {},
   "outputs": [
    {
     "name": "stdout",
     "output_type": "stream",
     "text": [
      "<class 'pandas.core.frame.DataFrame'>\n",
      "PE_开始获取000006数据\n",
      "nan\n",
      "PE_开始获取000008数据\n",
      "nan\n",
      "PE_开始获取000010数据\n",
      "nan\n"
     ]
    },
    {
     "ename": "KeyboardInterrupt",
     "evalue": "",
     "output_type": "error",
     "traceback": [
      "\u001b[0;31m---------------------------------------------------------------------------\u001b[0m",
      "\u001b[0;31mKeyboardInterrupt\u001b[0m                         Traceback (most recent call last)",
      "Cell \u001b[0;32mIn[62], line 29\u001b[0m\n\u001b[1;32m     27\u001b[0m \u001b[38;5;28;01melse\u001b[39;00m:\n\u001b[1;32m     28\u001b[0m     \u001b[38;5;28mprint\u001b[39m(new_pe)\n\u001b[0;32m---> 29\u001b[0m     \u001b[43mtime\u001b[49m\u001b[38;5;241;43m.\u001b[39;49m\u001b[43msleep\u001b[49m\u001b[43m(\u001b[49m\u001b[38;5;241;43m6\u001b[39;49m\u001b[43m)\u001b[49m  \u001b[38;5;66;03m# 等待 3 秒后再试\u001b[39;00m\n",
      "\u001b[0;31mKeyboardInterrupt\u001b[0m: "
     ]
    }
   ],
   "source": [
    "print(type(stock_list))\n",
    "# **遍历 DataFrame 并更新 ROE**\n",
    "error_times = 0\n",
    "for index, row in stock_list.iterrows():\n",
    "    if index > 0 :\n",
    "        stock_code = str(row[\"code\"]).zfill(6)  # 确保股票代码格式正确\n",
    "        if row[\"Roe\"] == 0.0 :\n",
    "            new_roe = get_roe(stock_code)\n",
    "            if new_roe is not None and new_roe != row[\"Roe\"]:\n",
    "                print(f\"更新 {stock_code} ROE: {row['Roe']} -> {new_roe}\")\n",
    "                stock_list.at[index, \"Roe\"] = new_roe  # 更新 ROE\n",
    "            if new_roe is None:\n",
    "                error_times += 1\n",
    "            else:\n",
    "                time.sleep(8)  # 等待 3 秒后再试\n",
    "            if error_times >= 3:\n",
    "                print(f\"❌---------------------网络获取数据失败,中断\")\n",
    "                break\n",
    "        if row['Pe_ttm'] == 0.0 :\n",
    "            new_pe = get_pe(stock_code)\n",
    "            if new_pe is not None and new_pe > 0 and new_pe != row[\"Pe_ttm\"]:\n",
    "                print(f\"更新 {stock_code} Pe_ttm: {row['Pe_ttm']} -> {new_pe}\")\n",
    "                stock_list.at[index, \"Pe_ttm\"] = new_pe  # 更新 Pe_ttm\n",
    "            if new_pe is None:\n",
    "                print(f\"❌---------------------网络获取数据失败,中断\")\n",
    "                break\n",
    "            else:\n",
    "                print(new_pe)\n",
    "                time.sleep(6)  # 等待 3 秒后再试"
   ]
  },
  {
   "cell_type": "code",
   "execution_count": null,
   "id": "b7fa3ab0-2b3d-4648-ba1d-10d49a74c74d",
   "metadata": {},
   "outputs": [],
   "source": [
    "# 将更新后的数据写回 JSON 文件\n",
    "stock_list.to_json(file_path, orient=\"records\", force_ascii=False, indent=4)\n",
    "print(\"------------------------->game over\")"
   ]
  },
  {
   "cell_type": "code",
   "execution_count": null,
   "id": "320af7fa-e1a4-46e3-a91c-8cdcb9e1938c",
   "metadata": {},
   "outputs": [],
   "source": [
    "# 读取 JSON 文件\n",
    "try:\n",
    "    with open(file_path, \"r\", encoding=\"utf-8\") as file:\n",
    "        stock_list_new = json.load(file)\n",
    "    # 遍历并输出内容\n",
    "    for stock in stock_list_new:\n",
    "        print(stock)\n",
    "except FileNotFoundError:\n",
    "    print(f\"文件 {file_path} 未找到！\")\n",
    "except json.JSONDecodeError:\n",
    "    print(f\"读取 JSON 数据时发生错误！\")"
   ]
  },
  {
   "cell_type": "code",
   "execution_count": null,
   "id": "de760bd0-2168-4ef8-b146-92b91f347da5",
   "metadata": {},
   "outputs": [],
   "source": []
  }
 ],
 "metadata": {
  "kernelspec": {
   "display_name": "Python 3 (ipykernel)",
   "language": "python",
   "name": "python3"
  },
  "language_info": {
   "codemirror_mode": {
    "name": "ipython",
    "version": 3
   },
   "file_extension": ".py",
   "mimetype": "text/x-python",
   "name": "python",
   "nbconvert_exporter": "python",
   "pygments_lexer": "ipython3",
   "version": "3.9.21"
  }
 },
 "nbformat": 4,
 "nbformat_minor": 5
}
