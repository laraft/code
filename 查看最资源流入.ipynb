{
 "cells": [
  {
   "cell_type": "code",
   "execution_count": 5,
   "id": "cfca2346-3060-478e-bd55-b491eff43817",
   "metadata": {},
   "outputs": [],
   "source": [
    "import akshare as ak\n",
    "import pandas as pd"
   ]
  },
  {
   "cell_type": "code",
   "execution_count": 7,
   "id": "a783c389-f126-45e3-87d8-0063b14574a5",
   "metadata": {},
   "outputs": [
    {
     "name": "stdout",
     "output_type": "stream",
     "text": [
      "            日期    收盘价   涨跌幅    主力净流入-净额  主力净流入-净占比   超大单净流入-净额  超大单净流入-净占比  \\\n",
      "119 2025-02-13  11.63  4.59  50534306.0       4.88  62553566.0        6.04   \n",
      "118 2025-02-12  11.12 -1.24 -43120689.0      -6.05 -30036088.0       -4.22   \n",
      "117 2025-02-11  11.26  4.26 -62995941.0      -5.76 -20074095.0       -1.84   \n",
      "116 2025-02-10  10.80  2.86  -2050729.0      -0.29   1590935.0        0.22   \n",
      "115 2025-02-07  10.50  2.94  32883887.0       4.75  28813302.0        4.16   \n",
      "114 2025-02-06  10.20  4.72  42874494.0       8.69  32790957.0        6.64   \n",
      "113 2025-02-05   9.74  3.51  -3196518.0      -1.38   1942150.0        0.84   \n",
      "\n",
      "       大单净流入-净额  大单净流入-净占比    中单净流入-净额  中单净流入-净占比    小单净流入-净额  小单净流入-净占比  \n",
      "119 -12019260.0      -1.16 -16075152.0      -1.55 -34459152.0      -3.33  \n",
      "118 -13084601.0      -1.84     77953.0       0.01  43042732.0       6.04  \n",
      "117 -42921846.0      -3.93  76664720.0       7.01 -13668784.0      -1.25  \n",
      "116  -3641664.0      -0.51  -7100863.0      -1.00   9151591.0       1.29  \n",
      "115   4070585.0       0.59   5735182.0       0.83 -38619068.0      -5.58  \n",
      "114  10083537.0       2.04  -1677181.0      -0.34 -41197313.0      -8.35  \n",
      "113  -5138668.0      -2.22  -4769347.0      -2.06   7965866.0       3.44  \n",
      "✅ 资金流数据已保存为 002103_fund_flow.xlsx！\n"
     ]
    }
   ],
   "source": [
    "# 1. 获取个股资金流数据\n",
    "stock_code = \"002103\"\n",
    "fund_flow_df = ak.stock_individual_fund_flow(stock=stock_code, market=\"sz\")\n",
    "\n",
    "# 2. 确保数据按日期降序排列\n",
    "fund_flow_df[\"日期\"] = pd.to_datetime(fund_flow_df[\"日期\"])  # 转换日期格式\n",
    "fund_flow_df = fund_flow_df.sort_values(by=\"日期\", ascending=False)  # 降序排列\n",
    "\n",
    "# 3. 仅保留最近 7 天数据\n",
    "fund_flow_df = fund_flow_df.head(7)\n",
    "\n",
    "# 4. 保存数据到 Excel\n",
    "output_file = f\"{stock_code}_fund_flow.xlsx\"\n",
    "fund_flow_df.to_excel(output_file, index=False)\n",
    "\n",
    "# 5. 打印数据\n",
    "print(fund_flow_df)\n",
    "print(f\"✅ 资金流数据已保存为 {output_file}！\")\n"
   ]
  },
  {
   "cell_type": "code",
   "execution_count": null,
   "id": "d7e470b8-3bda-4574-a5f2-5501e6e91e5d",
   "metadata": {},
   "outputs": [],
   "source": []
  },
  {
   "cell_type": "code",
   "execution_count": null,
   "id": "9dcf3a95-36e7-425e-9085-01751d11fdb3",
   "metadata": {},
   "outputs": [],
   "source": []
  }
 ],
 "metadata": {
  "kernelspec": {
   "display_name": "Python 3 (ipykernel)",
   "language": "python",
   "name": "python3"
  },
  "language_info": {
   "codemirror_mode": {
    "name": "ipython",
    "version": 3
   },
   "file_extension": ".py",
   "mimetype": "text/x-python",
   "name": "python",
   "nbconvert_exporter": "python",
   "pygments_lexer": "ipython3",
   "version": "3.9.21"
  }
 },
 "nbformat": 4,
 "nbformat_minor": 5
}
